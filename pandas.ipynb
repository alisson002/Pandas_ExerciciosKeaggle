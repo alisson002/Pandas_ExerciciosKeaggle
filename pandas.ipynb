{
 "cells": [
  {
   "cell_type": "code",
   "execution_count": null,
   "id": "c01f00d4",
   "metadata": {},
   "outputs": [],
   "source": [
    "# Importa a biblioteca pandas e a renomeia para 'pd' para facilitar o uso\n",
    "# Pandas é uma biblioteca essencial para manipulação e análise de dados em Python, oferecendo estruturas como DataFrame e Series\n",
    "import pandas as pd"
   ]
  },
  {
   "cell_type": "markdown",
   "id": "faa69021",
   "metadata": {},
   "source": [
    "### EXERCICIOS KEAGGLE"
   ]
  },
  {
   "cell_type": "markdown",
   "id": "28282a58",
   "metadata": {},
   "source": [
    "# 1.Creating, Reading and Writing"
   ]
  },
  {
   "cell_type": "code",
   "execution_count": null,
   "id": "af0593f8",
   "metadata": {},
   "outputs": [],
   "source": [
    "# 1.1. In the cell below, create a DataFrame fruits that looks like this:\n",
    "\n",
    "'''\n",
    "\n",
    "   Apples  Bananas\n",
    "\n",
    "0      30       21\n",
    "\n",
    "'''\n",
    "\n",
    "# Cria um DataFrame chamado 'fruits' usando um dicionário\n",
    "# DataFrame é uma estrutura tabular bidimensional, como uma planilha, com linhas e colunas\n",
    "# As chaves do dicionário se tornam os nomes das colunas ('Apples' e 'Bananas'), e os valores são listas com os dados\n",
    "# O índice é gerado automaticamente começando de 0\n",
    "fruits = pd.DataFrame({'Apples': [30], 'Bananas': [21]})\n",
    "\n",
    "# Exibe o DataFrame 'fruits' para visualizar sua estrutura e dados\n",
    "fruits"
   ]
  },
  {
   "cell_type": "code",
   "execution_count": null,
   "id": "6db76af9",
   "metadata": {},
   "outputs": [],
   "source": [
    "# 1.2. Create a dataframe fruit_sales that matches the diagram below:\n",
    "\n",
    "'''\n",
    "\n",
    "            Apples  Bananas\n",
    "\n",
    "2017 Sales      35       21\n",
    "\n",
    "2018 Sales      41       34\n",
    "\n",
    "'''\n",
    "\n",
    "# Cria um DataFrame 'fruit_sales' com vendas de frutas para 2017 e 2018\n",
    "# Define índices personalizados ('2017 Sales', '2018 Sales') usando o parâmetro 'index'\n",
    "# Isso permite rótulos descritivos para as linhas, facilitando a interpretação\n",
    "fruit_sales = pd.DataFrame({'Apples': [35,41], 'Bananas': [21,34]}, index=['2017 Sales','2018 Sales'])\n",
    "\n",
    "# Exibe o DataFrame 'fruit_sales' para verificar se corresponde ao diagrama esperado\n",
    "fruit_sales"
   ]
  },
  {
   "cell_type": "code",
   "execution_count": null,
   "id": "b1d03093",
   "metadata": {},
   "outputs": [],
   "source": [
    "# 1.3. Create a variable ingredients with a Series that looks like:\n",
    "\n",
    "'''\n",
    "\n",
    "Flour     4 cups\n",
    "\n",
    "Milk       1 cup\n",
    "\n",
    "Eggs     2 large\n",
    "\n",
    "Spam       1 can\n",
    "\n",
    "Name: Dinner, dtype: object\n",
    "\n",
    "'''\n",
    "\n",
    "# Cria uma Series chamada 'ingredients' para representar ingredientes de uma receita\n",
    "# Series é uma estrutura unidimensional, como uma coluna de dados\n",
    "# Os valores são uma lista de quantidades, e o índice é uma lista de nomes dos ingredientes\n",
    "# O parâmetro 'name' dá um nome à Series, útil para identificação\n",
    "ingredients = pd.Series(['4 cups','1 cup','2 large','1 can'], index = ['Flour','Milk','Eggs','Spam'], name = 'Dinner')\n",
    "\n",
    "# Exibe a Series 'ingredients' para visualizar os dados organizados\n",
    "ingredients"
   ]
  },
  {
   "cell_type": "code",
   "execution_count": null,
   "id": "883ca70a",
   "metadata": {},
   "outputs": [],
   "source": [
    "# Read the following csv dataset of wine reviews into a DataFrame called reviews:\n",
    "\n",
    "# The filepath to the csv file is ../input/wine-reviews/winemag-data_first150k.csv. The first few lines look like:\n",
    "\n",
    "# Lê um arquivo CSV de avaliações de vinhos e cria um DataFrame 'reviews'\n",
    "# pd.read_csv() é a função para ler arquivos CSV; 'index_col=0' define a primeira coluna como índice\n",
    "# Isso carrega os dados em uma estrutura tabular para análise posterior\n",
    "reviews = pd.read_csv('winemag-data_first150k.csv', index_col=0)\n",
    "\n",
    "# Exibe o DataFrame 'reviews' para ver as primeiras linhas e entender a estrutura dos dados\n",
    "reviews\n",
    "\n"
   ]
  },
  {
   "cell_type": "code",
   "execution_count": null,
   "id": "bc11d9f5",
   "metadata": {},
   "outputs": [],
   "source": [
    "# Run the cell below to create and display a DataFrame called animals:\n",
    "\n",
    "# Cria um DataFrame 'animals' com dados de vacas e cabras ao longo de dois anos\n",
    "# Índices personalizados ('Year 1', 'Year 2') facilitam a leitura dos dados por ano\n",
    "animals = pd.DataFrame({'Cows': [12, 20], 'Goats': [22, 19]}, index=['Year 1', 'Year 2'])\n",
    "\n"
   ]
  },
  {
   "cell_type": "code",
   "execution_count": null,
   "id": "95975284",
   "metadata": {},
   "outputs": [],
   "source": [
    "# 1.4. In the cell below, write code to save this DataFrame to disk as a csv file with the name cows_and_goats.csv.\n",
    "\n",
    "# Exibe o DataFrame 'animals' para visualizar os dados criados\n",
    "animals\n",
    "\n",
    "# Salva o DataFrame 'animals' em um arquivo CSV chamado 'cows_and_goats.csv'\n",
    "# to_csv() é o método para exportar DataFrames para CSV; o nome do arquivo é passado como argumento\n",
    "# Isso permite armazenar os dados em disco para uso futuro ou compartilhamento\n",
    "animals.to_csv('cows_and_goats.csv')"
   ]
  },
  {
   "cell_type": "markdown",
   "id": "e33d2777",
   "metadata": {},
   "source": [
    "# 2.Indexing, Selecting & Assigning\n",
    "# Nesta seção, trabalharemos com o conjunto de dados Wine Reviews para praticar indexação, seleção e atribuição"
   ]
  },
  {
   "cell_type": "code",
   "execution_count": null,
   "id": "a544021e",
   "metadata": {},
   "outputs": [],
   "source": [
    "# Lê novamente o arquivo CSV de avaliações de vinhos, definindo a primeira coluna como índice\n",
    "# Isso garante que o DataFrame esteja pronto para operações de indexação\n",
    "reviews = pd.read_csv('winemag-data_first150k.csv', index_col=0)\n",
    "\n",
    "# Exibe as primeiras linhas do DataFrame 'reviews' usando head()\n",
    "# head() mostra as primeiras 5 linhas por padrão, útil para inspecionar a estrutura dos dados\n",
    "reviews.head()"
   ]
  },
  {
   "cell_type": "code",
   "execution_count": null,
   "id": "6774c677",
   "metadata": {},
   "outputs": [],
   "source": [
    "# 2.1. Select the description column from reviews and assign the result to the variable desc.\n",
    "\n",
    "# Seleciona a coluna 'description' do DataFrame 'reviews' e atribui à variável 'desc'\n",
    "# Isso cria uma Series contendo todas as descrições dos vinhos\n",
    "desc = reviews.description\n",
    "\n",
    "# Alternativa: Seleciona a coluna 'description' usando notação de colchetes\n",
    "# Ambas as formas são equivalentes para acessar colunas em DataFrames\n",
    "desc = reviews['description']"
   ]
  },
  {
   "cell_type": "code",
   "execution_count": null,
   "id": "193ac4b8",
   "metadata": {},
   "outputs": [],
   "source": [
    "# 2.2. Select the first value from the description column of reviews, assigning it to variable first_description.\n",
    "\n",
    "# Seleciona o primeiro valor da coluna 'description' usando indexação posicional\n",
    "# [0] acessa o primeiro elemento da Series, correspondendo ao primeiro vinho\n",
    "first_description = reviews['description'][0]\n",
    "\n",
    "# Alternativa: Acessa o primeiro elemento da coluna 'description' diretamente\n",
    "# Funciona da mesma forma, pois 'description' é uma Series\n",
    "first_description = reviews.description[0]\n",
    "\n",
    "# Exibe o primeiro valor da descrição para visualização\n",
    "first_description"
   ]
  },
  {
   "cell_type": "code",
   "execution_count": null,
   "id": "20398a74",
   "metadata": {},
   "outputs": [],
   "source": [
    "# 2.3. Select the first row of data (the first record) from reviews, assigning it to the variable first_row.\n",
    "\n",
    "# Seleciona a primeira linha completa do DataFrame 'reviews' usando iloc\n",
    "# iloc[0] retorna a primeira linha (índice 0) como uma Series, útil para ver todos os dados de um registro\n",
    "first_row = reviews.iloc[0]\n",
    "\n",
    "# Exibe a primeira linha para inspecionar os dados do primeiro vinho\n",
    "first_row"
   ]
  },
  {
   "cell_type": "code",
   "execution_count": null,
   "id": "7197cbb0",
   "metadata": {},
   "outputs": [],
   "source": [
    "# 2.4. Select the first 10 values from the description column in reviews, assigning the result to variable first_descriptions.\n",
    "\n",
    "# Hint: format your output as a pandas Series.\n",
    "\n",
    "# Seleciona os primeiros 10 valores da coluna 'description' usando loc com fatiamento\n",
    "# loc[:9, 'description'] seleciona linhas de 0 a 9 (inclusive) da coluna 'description'\n",
    "first_descriptions = reviews.loc[:9, 'description']\n",
    "\n",
    "# Alternativa: Usa iloc para selecionar os primeiros 10 elementos da coluna 'description'\n",
    "# iloc[:10] seleciona os primeiros 10 elementos (0 a 9), já que iloc é exclusivo no final\n",
    "first_descriptions = reviews.description.iloc[:10]\n",
    "\n",
    "# Exibe as primeiras 10 descrições como uma Series\n",
    "first_descriptions"
   ]
  },
  {
   "cell_type": "code",
   "execution_count": null,
   "id": "3595b8c0",
   "metadata": {},
   "outputs": [],
   "source": [
    "# 2.5. Select the records with index labels 1, 2, 3, 5, and 8, assigning the result to the variable sample_reviews.\n",
    "\n",
    "# In other words, generate the following DataFrame:\n",
    "\n",
    "# Seleciona registros específicos com índices 1, 2, 3, 5 e 8 usando iloc com lista\n",
    "# iloc[[1,2,3,5,8]] retorna um DataFrame com essas linhas específicas\n",
    "sample_reviews = reviews.iloc[[1,2,3,5,8]]\n",
    "\n",
    "# Exibe o DataFrame com as amostras selecionadas\n",
    "sample_reviews"
   ]
  },
  {
   "cell_type": "code",
   "execution_count": null,
   "id": "e9f0c0e8",
   "metadata": {},
   "outputs": [],
   "source": [
    "# 2.6. Create a variable df containing the country, province, region_1, and region_2 columns of the records with the index labels 0, 1, 10, and 100. In other words, generate the following DataFrame:\n",
    "\n",
    "'''\n",
    "\n",
    "            country      province        region_1       region_2\n",
    "0           Italy     Sicily & Sardina       Etna         NaN\n",
    "1        Portugal        Douro        Napa Valley         NaN\n",
    "10           US        California        Napa Valley         Napa\n",
    "100           US        New York        Finger Lakes         Finger Lakes\n",
    "'''\n",
    "# Cria um DataFrame 'df' contendo colunas específicas de linhas selecionadas\n",
    "# loc[[0,1,10,100], ['country', 'province', 'region_1', 'region_2']] seleciona linhas e colunas específicas\n",
    "df = reviews.loc[[0,1,10,100],['country', 'province', 'region_1', 'region_2']]\n",
    "\n",
    "# Exibe o DataFrame 'df' com os dados selecionados\n",
    "df\n"
   ]
  },
  {
   "cell_type": "code",
   "execution_count": null,
   "id": "5fdbbddb",
   "metadata": {},
   "outputs": [],
   "source": [
    "# 2.7. Create a variable df containing the country and variety columns of the first 100 records.\n",
    "\n",
    "# Hint: you may use loc or iloc. When working on the answer this question and the several of the ones that follow, keep the following \"gotcha\" described in the tutorial:\n",
    "\n",
    "# iloc uses the Python stdlib indexing scheme, where the first element of the range is included and the last one excluded. loc, meanwhile, indexes inclusively.\n",
    "\n",
    "# This is particularly confusing when the DataFrame index is a simple numerical list, e.g. 0,...,1000. In this case df.iloc[0:1000] will return 1000 entries, while df.loc[0:1000] return 1001 of them! To get 1000 elements using loc, you will need to go one lower and ask for df.iloc[0:999].\n",
    "\n",
    "# Cria um DataFrame 'df' com as colunas 'country' e 'variety' dos primeiros 100 registros\n",
    "# loc[:99, ['country', 'variety']] seleciona linhas 0 a 99 (inclusive) e as colunas especificadas\n",
    "df = reviews.loc[:99,['country', 'variety']]\n",
    "\n",
    "# Alternativa: Usa iloc para selecionar as primeiras 100 linhas e colunas por posição\n",
    "# [0,11] refere-se às colunas na posição 0 ('country') e 11 ('variety')\n",
    "df = reviews.iloc[:100, [0,11]]\n",
    "\n",
    "# Exibe o DataFrame 'df' com os primeiros 100 registros\n",
    "df"
   ]
  },
  {
   "cell_type": "code",
   "execution_count": null,
   "id": "e6c86466",
   "metadata": {},
   "outputs": [],
   "source": [
    "# 2.8. Create a DataFrame italian_wines containing reviews of wines made in Italy. Hint: reviews.country equals what?\n",
    "\n",
    "# Cria um DataFrame 'italian_wines' filtrando vinhos da Itália\n",
    "# reviews.country == 'Italy' cria uma máscara booleana; loc[] aplica o filtro\n",
    "italian_wines = reviews.loc[reviews.country == 'Italy']\n",
    "\n",
    "# Alternativa: Filtragem direta sem loc, que também funciona para seleção condicional\n",
    "italian_wines = reviews[reviews.country == 'Italy']"
   ]
  },
  {
   "cell_type": "code",
   "execution_count": null,
   "id": "6a725624",
   "metadata": {},
   "outputs": [],
   "source": [
    "# 2.9. Create a DataFrame top_oceania_wines containing all reviews with at least 95 points (out of 100) for wines from Australia or New Zealand.\n",
    "\n",
    "# Cria um DataFrame 'top_oceania_wines' com vinhos da Austrália ou Nova Zelândia com pontuação >= 95\n",
    "# isin(['Australia','New Zealand']) verifica se o país está na lista; & combina condições\n",
    "top_oceania_wines = reviews.loc[(reviews.country.isin(['Australia','New Zealand'])) & (reviews.points >= 95)]\n",
    "\n",
    "# Exibe o DataFrame com os melhores vinhos da Oceania\n",
    "top_oceania_wines"
   ]
  },
  {
   "cell_type": "markdown",
   "id": "413c7d6b",
   "metadata": {},
   "source": [
    "# 3.Summary Functions and Maps\n",
    "# Nesta seção, exploramos funções de resumo e mapeamento para analisar dados de forma eficiente"
   ]
  },
  {
   "cell_type": "code",
   "execution_count": null,
   "id": "27574ada",
   "metadata": {},
   "outputs": [],
   "source": [
    "# 3.1. What is the median of the points column in the reviews DataFrame?\n",
    "\n",
    "# Calcula a mediana da coluna 'points' no DataFrame 'reviews'\n",
    "# median() retorna o valor central quando os dados são ordenados, útil para entender a distribuição central\n",
    "median_points = reviews.points.median()"
   ]
  },
  {
   "cell_type": "code",
   "execution_count": null,
   "id": "f9c326d1",
   "metadata": {},
   "outputs": [],
   "source": [
    "# 3.2. What countries are represented in the dataset? (Your answer should not include any duplicates.)\n",
    "\n",
    "# Obtém uma lista de países únicos representados no conjunto de dados\n",
    "# unique() remove duplicatas, mostrando apenas valores distintos na coluna 'country'\n",
    "countries = reviews.country.unique()"
   ]
  },
  {
   "cell_type": "code",
   "execution_count": null,
   "id": "de2b10e3",
   "metadata": {},
   "outputs": [],
   "source": [
    "# 3.3. How often does each country appear in the dataset? Create a Series reviews_per_country mapping countries to the count of reviews of wines from that country.\n",
    "\n",
    "# Conta quantas vezes cada país aparece no conjunto de dados\n",
    "# value_counts() cria uma Series com contagens, indexada pelos valores únicos\n",
    "reviews_per_country = reviews.country.value_counts()"
   ]
  },
  {
   "cell_type": "code",
   "execution_count": null,
   "id": "22d32311",
   "metadata": {},
   "outputs": [],
   "source": [
    "# 3.4. Create variable centered_price containing a version of the price column with the mean price subtracted.\n",
    "\n",
    "# (Note: this 'centering' transformation is a common preprocessing step before applying various machine learning algorithms.)\n",
    "\n",
    "# Cria uma variável 'centered_price' subtraindo a média dos preços\n",
    "# Isso centraliza os dados em torno de zero, útil para algoritmos de ML que assumem distribuição normal\n",
    "centered_price = reviews.price - reviews.price.mean()"
   ]
  },
  {
   "cell_type": "code",
   "execution_count": null,
   "id": "a0ad05c8",
   "metadata": {},
   "outputs": [],
   "source": [
    "# 3.5. I'm an economical wine buyer. Which wine is the \"best bargain\"? Create a variable bargain_wine with the title of the wine with the highest points-to-price ratio in the dataset.\n",
    "\n",
    "# Encontra o vinho com a melhor relação pontos/preço (melhor barganha)\n",
    "# idxmax() retorna o índice do valor máximo; divide pontos por preço para obter a razão\n",
    "bargain_idx = (reviews.points / reviews.price).idxmax()\n",
    "bargain_wine = reviews.loc[bargain_idx, 'title']"
   ]
  },
  {
   "cell_type": "code",
   "execution_count": null,
   "id": "ec0d9764",
   "metadata": {},
   "outputs": [],
   "source": [
    "# 3.6. There are only so many words you can use when describing a bottle of wine. Is a wine more likely to be \"tropical\" or \"fruity\"? Create a Series descriptor_counts counting how many times each of these two words appears in the description column in the dataset. (For simplicity, let's ignore the capitalized versions of these words.)\n",
    "\n",
    "# Conta quantas vezes as palavras \"tropical\" e \"fruity\" aparecem nas descrições\n",
    "# map() aplica uma função lambda a cada descrição; sum() conta True como 1\n",
    "n_trop = reviews.description.map(lambda desc: \"tropical\" in desc).sum()\n",
    "n_fruity = reviews.description.map(lambda desc: \"fruity\" in desc).sum()\n",
    "descriptor_counts = pd.Series([n_trop, n_fruity], index=['tropical', 'fruity'])\n",
    "\n",
    "# Exibe a contagem de descritores para comparar frequência\n",
    "descriptor_counts"
   ]
  },
  {
   "cell_type": "code",
   "execution_count": null,
   "id": "f837814b",
   "metadata": {},
   "outputs": [],
   "source": [
    "# 3.7. We'd like to host these wine reviews on our website, but a rating system ranging from 80 to 100 points is too hard to understand - we'd like to translate them into simple star ratings. A score of 95 or higher counts as 3 stars, a score of at least 85 but less than 95 is 2 stars. Any other score is 1 star.\n",
    "\n",
    "# Also, the Canadian Vintners Association bought a lot of ads on the site, so any wines from Canada should automatically get 3 stars, regardless of points.\n",
    "\n",
    "# Create a series star_ratings with the number of stars corresponding to each review in the dataset.\n",
    "\n",
    "# Converte o sistema de pontuação (80-100) em estrelas (1-3) para simplificar\n",
    "# Vinhos canadenses recebem automaticamente 3 estrelas devido a publicidade\n",
    "\n",
    "# Cria uma nova coluna 'star_ratings' inicializada com 0\n",
    "reviews['star_ratings'] = 0\n",
    "\n",
    "# Atribui estrelas baseado em pontos: 3 para >=95, 2 para 85-94, 1 para <85\n",
    "reviews['star_ratings'].loc[(reviews.points >= 85) & (reviews.points < 95)] = 2\n",
    "reviews['star_ratings'].loc[reviews.points >= 95] = 3\n",
    "reviews['star_ratings'].loc[reviews.points < 85] = 1\n",
    "\n",
    "# Vinhos canadenses recebem 3 estrelas independentemente da pontuação\n",
    "reviews['star_ratings'].loc[reviews.country == 'Canada'] = 3\n",
    "\n",
    "# Extrai a Series de estrelas para uso posterior\n",
    "star_ratings = reviews['star_ratings']\n",
    "\n",
    "# Exibe o DataFrame atualizado com a nova coluna\n",
    "reviews"
   ]
  },
  {
   "cell_type": "code",
   "execution_count": null,
   "id": "db4d2e77",
   "metadata": {},
   "outputs": [],
   "source": [
    "# Abordagem alternativa usando apply() para criar estrelas\n",
    "# apply() aplica uma função a cada linha (axis='columns') ou coluna\n",
    "\n",
    "def stars(row):\n",
    "    # Função que determina estrelas baseado em país e pontos\n",
    "    if row.country == 'Canada':\n",
    "        return 3\n",
    "    elif row.points >= 95:\n",
    "        return 3\n",
    "    elif row.points >= 85:\n",
    "        return 2\n",
    "    else:\n",
    "        return 1\n",
    "\n",
    "# Aplica a função stars a cada linha do DataFrame\n",
    "star_ratings = reviews.apply(stars, axis='columns')"
   ]
  },
  {
   "cell_type": "markdown",
   "id": "5ad84da3",
   "metadata": {},
   "source": [
    "# 4.Grouping and Sorting\n",
    "# Nesta seção, exploramos agrupamento e ordenação para analisar padrões nos dados"
   ]
  },
  {
   "cell_type": "code",
   "execution_count": null,
   "id": "1cc2be7f",
   "metadata": {},
   "outputs": [],
   "source": [
    "# 4.1. Who are the most common wine reviewers in the dataset? Create a Series whose index is the taster_twitter_handle category from the dataset, and whose values count how many reviews each person wrote.\n",
    "\n",
    "# Conta quantas avaliações cada degustador escreveu usando groupby\n",
    "# groupby() agrupa dados por categoria; count() conta valores não-nulos em cada grupo\n",
    "reviews_written = reviews.groupby('taster_twitter_handle').taster_twitter_handle.count()"
   ]
  },
  {
   "cell_type": "code",
   "execution_count": null,
   "id": "ce853d02",
   "metadata": {},
   "outputs": [],
   "source": [
    "# Alternativa: size() conta todas as linhas em cada grupo, incluindo valores nulos\n",
    "# Ambas as abordagens funcionam, mas size() é mais eficiente para contagem simples\n",
    "reviews_written = reviews.groupby('taster_twitter_handle').size()"
   ]
  },
  {
   "cell_type": "code",
   "execution_count": null,
   "id": "a75918f4",
   "metadata": {},
   "outputs": [],
   "source": [
    "# 4.2. What is the best wine I can buy for a given amount of money? Create a Series whose index is wine prices and whose values is the maximum number of points a wine costing that much was given in a review. Sort the values by price, ascending (so that 4.0 dollars is at the top and 3300.0 dollars is at the bottom).\n",
    "\n",
    "# Encontra a melhor pontuação para cada preço disponível\n",
    "# Agrupa por preço, encontra o máximo de pontos em cada grupo, e ordena por preço\n",
    "best_rating_per_price = reviews.groupby('price')['points'].max().sort_index()"
   ]
  },
  {
   "cell_type": "code",
   "execution_count": null,
   "id": "5ff401dc",
   "metadata": {},
   "outputs": [],
   "source": [
    "# 4.3. What are the minimum and maximum prices for each variety of wine? Create a DataFrame whose index is the variety category from the dataset and whose values are the min and max values thereof.\n",
    "\n",
    "# Calcula preços mínimo e máximo para cada variedade de vinho\n",
    "# agg([min, max]) aplica múltiplas funções de agregação simultaneamente\n",
    "price_extremes = reviews.groupby(['variety']).price.agg([min, max])"
   ]
  },
  {
   "cell_type": "code",
   "execution_count": null,
   "id": "ddd8a809",
   "metadata": {},
   "outputs": [],
   "source": [
    "# 4.4. What are the most expensive wine varieties? Create a variable sorted_varieties containing a copy of the dataframe from the previous question where varieties are sorted in descending order based on minimum price, then on maximum price (to break ties).\n",
    "\n",
    "# Ordena variedades por preço mínimo e máximo em ordem decrescente\n",
    "# sort_values() ordena o DataFrame; ascending=False para ordem decrescente\n",
    "sorted_varieties = price_extremes.sort_values(by=['min', 'max'], ascending=False)"
   ]
  },
  {
   "cell_type": "code",
   "execution_count": null,
   "id": "8d0aeb35",
   "metadata": {},
   "outputs": [],
   "source": [
    "# 4.5. Create a Series whose index is reviewers and whose values is the average review score given out by that reviewer. Hint: you will need the taster_name and points columns.\n",
    "\n",
    "# Calcula a pontuação média dada por cada degustador\n",
    "# Agrupa por nome do degustador e calcula a média dos pontos\n",
    "reviewer_mean_ratings = reviews.groupby('taster_name').points.mean()"
   ]
  },
  {
   "cell_type": "code",
   "execution_count": null,
   "id": "c092e70c",
   "metadata": {},
   "outputs": [],
   "source": [
    "# 4.6. What combination of countries and varieties are most common? Create a Series whose index is a MultiIndexof {country, variety} pairs. For example, a pinot noir produced in the US should map to {\"US\", \"Pinot Noir\"}. Sort the values in the Series in descending order based on wine count.\n",
    "\n",
    "# Conta combinações mais comuns de país e variedade\n",
    "# Agrupa por múltiplas colunas criando um MultiIndex; size() conta ocorrências\n",
    "country_variety_counts = reviews.groupby(['country','variety']).size().sort_values(ascending=False)"
   ]
  },
  {
   "cell_type": "markdown",
   "id": "108e5c38",
   "metadata": {},
   "source": [
    "# 5.Data Types and Missing Values\n",
    "# Nesta seção, trabalhamos com tipos de dados e tratamento de valores ausentes"
   ]
  },
  {
   "cell_type": "code",
   "execution_count": null,
   "id": "5160d36c",
   "metadata": {},
   "outputs": [],
   "source": [
    "# 5.1. What is the data type of the points column in the dataset?\n",
    "\n",
    "# Verifica o tipo de dados da coluna 'points'\n",
    "# dtype retorna o tipo de dados da Series, importante para operações numéricas\n",
    "dtype = reviews.points.dtype"
   ]
  },
  {
   "cell_type": "code",
   "execution_count": null,
   "id": "50c43155",
   "metadata": {},
   "outputs": [],
   "source": [
    "# 5.2. Create a Series from entries in the points column, but convert the entries to strings. Hint: strings are str in native Python.\n",
    "\n",
    "# Converte os valores da coluna 'points' para strings\n",
    "# astype() muda o tipo de dados; útil quando precisamos manipular dados como texto\n",
    "point_strings = reviews.points.astype('str')"
   ]
  },
  {
   "cell_type": "code",
   "execution_count": null,
   "id": "6e9b02ed",
   "metadata": {},
   "outputs": [],
   "source": [
    "# 5.3.  Sometimes the price column is null. How many reviews in the dataset are missing a price?\n",
    "\n",
    "# Conta quantas avaliações estão sem preço (valores nulos)\n",
    "# isnull() cria máscara booleana; filtragem mostra apenas linhas com preço nulo\n",
    "missing_price_reviews = reviews[reviews.price.isnull()]\n",
    "n_missing_prices = len(missing_price_reviews)"
   ]
  },
  {
   "cell_type": "code",
   "execution_count": null,
   "id": "1233b0d5",
   "metadata": {},
   "outputs": [],
   "source": [
    "# Alternativa elegante: soma a Series booleana diretamente\n",
    "# True é tratado como 1, False como 0; muito eficiente para contagem\n",
    "n_missing_prices = reviews.price.isnull().sum()"
   ]
  },
  {
   "cell_type": "code",
   "execution_count": null,
   "id": "d7f09886",
   "metadata": {},
   "outputs": [],
   "source": [
    "# 5.4. What are the most common wine-producing regions? Create a Series counting the number of times each value occurs in the region_1 field. This field is often missing data, so replace missing values with Unknown. Sort in descending order. Your output should look something like this:\n",
    "\n",
    "'''\n",
    "Unknown                    21247\n",
    "Napa Valley                 4480\n",
    "                           ...  \n",
    "Bardolino Superiore            1\n",
    "Primitivo del Tarantino        1\n",
    "Name: region_1, Length: 1230, dtype: int64\n",
    "'''\n",
    "\n",
    "# Conta regiões produtoras mais comuns, tratando valores ausentes\n",
    "# fillna() substitui NaN por \"Unknown\"; value_counts() conta ocorrências por categoria\n",
    "reviews_per_region = reviews.region_1.fillna(\"Unknown\").value_counts().sort_values(ascending=False)\n"
   ]
  },
  {
   "cell_type": "markdown",
   "id": "8afd33b8",
   "metadata": {},
   "source": [
    "# 6.Renaming and Combining\n",
    "# Nesta seção, exploramos renomeação de colunas e combinação de DataFrames"
   ]
  },
  {
   "cell_type": "code",
   "execution_count": null,
   "id": "b8f98a1e",
   "metadata": {},
   "outputs": [],
   "source": [
    "#View the first several lines of your data by running the cell below:\n",
    "\n",
    "# Exibe as primeiras linhas do DataFrame para visualizar a estrutura atual\n",
    "# head() mostra as primeiras 5 linhas por padrão, útil para inspecionar dados\n",
    "reviews.head()"
   ]
  },
  {
   "cell_type": "code",
   "execution_count": null,
   "id": "50488ac9",
   "metadata": {},
   "outputs": [],
   "source": [
    "# 6.1. region_1 and region_2 are pretty uninformative names for locale columns in the dataset. Create a copy of reviews with these columns renamed to region and locale, respectively.\n",
    "\n",
    "# Renomeia colunas pouco descritivas para nomes mais claros\n",
    "# rename() permite alterar nomes de colunas ou índices; copy() cria uma cópia independente\n",
    "renamed = reviews.rename(columns={'region_1': 'region', 'region_2': 'locale'}).copy()"
   ]
  },
  {
   "cell_type": "code",
   "execution_count": null,
   "id": "e83bc8dd",
   "metadata": {},
   "outputs": [],
   "source": [
    "# 6.2. Set the index name in the dataset to wines.\n",
    "\n",
    "# Define o nome do índice (linhas) como 'wines' para maior clareza\n",
    "# rename_axis() nomeia o índice, facilitando a interpretação do DataFrame\n",
    "reindexed = reviews.rename_axis(\"wines\", axis='rows')"
   ]
  },
  {
   "cell_type": "code",
   "execution_count": null,
   "id": "1d681c6a",
   "metadata": {},
   "outputs": [],
   "source": [
    "# 6.3. The Things on Reddit dataset includes product links from a selection of top-ranked forums (\"subreddits\") on reddit.com. Run the cell below to load a dataframe of products mentioned on the /r/gaming subreddit and another dataframe for products mentioned on the r//movies subreddit.\n",
    "\n",
    "# Carrega dados de produtos mencionados em subreddits do Reddit\n",
    "# Esses dados vêm de fóruns específicos: gaming e movies\n",
    "\n",
    "from pathlib import Path\n",
    "\n",
    "gaming_products = pd.read_csv(\"top-things/top-things/reddits/g/gaming.csv\")\n",
    "gaming_products['subreddit'] = \"r/gaming\"\n",
    "\n",
    "movie_products = pd.read_csv(\"top-things/top-things/reddits/m/movies.csv\")\n",
    "movie_products['subreddit'] = \"r/movies\""
   ]
  },
  {
   "cell_type": "code",
   "execution_count": null,
   "id": "a76f3d24",
   "metadata": {},
   "outputs": [],
   "source": [
    "# Combina DataFrames de diferentes subreddits usando concatenação\n",
    "# concat() une DataFrames verticalmente (linhas); útil para combinar dados similares\n",
    "combined_products = pd.concat([gaming_products, movie_products])\n",
    "\n",
    "# Exibe o DataFrame combinado para verificar a união dos dados\n",
    "combined_products"
   ]
  },
  {
   "cell_type": "code",
   "execution_count": null,
   "id": "48adb06a",
   "metadata": {},
   "outputs": [],
   "source": [
    "# 6.4. The Powerlifting Database dataset on Kaggle includes one CSV table for powerlifting meets and a separate one for powerlifting competitors. Run the cell below to load these datasets into dataframes:\n",
    "\n",
    "# Carrega dados do banco de dados de powerlifting do Kaggle\n",
    "# Duas tabelas separadas: encontros (meets) e competidores\n",
    "\n",
    "powerlifting_meets = pd.read_csv(\"openpowerlifting-meets.csv\", alocate_memory=True)\n",
    "powerlifting_competitors = pd.read_csv(\"openpowerlifting.csv\")"
   ]
  },
  {
   "cell_type": "code",
   "execution_count": null,
   "id": "ac8a53e8",
   "metadata": {},
   "outputs": [],
   "source": [
    "# Combina as tabelas usando join baseado em MeetID\n",
    "# set_index() define MeetID como índice; join() combina baseado no índice comum\n",
    "left = powerlifting_meets.set_index(['MeetID'])\n",
    "right = powerlifting_competitors.set_index(['MeetID'])\n",
    "\n",
    "# Realiza o join para criar um DataFrame combinado\n",
    "# left.join(right) combina dados de encontros com dados de competidores\n",
    "powerlifting_combined = left.join(right)"
   ]
  }
 ],
 "metadata": {
  "jupytext": {
   "cell_metadata_filter": "-all",
   "main_language": "python",
   "notebook_metadata_filter": "-all"
  },
  "language_info": {
   "name": "python"
  }
 },
 "nbformat": 4,
 "nbformat_minor": 5
}
